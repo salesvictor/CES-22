{
 "cells": [
  {
   "cell_type": "code",
   "execution_count": 13,
   "metadata": {},
   "outputs": [
    {
     "name": "stdout",
     "output_type": "stream",
     "text": [
      "Test at line 19 ok.\n",
      "Test at line 20 ok.\n",
      "Test at line 21 ok.\n"
     ]
    }
   ],
   "source": [
    "import sys\n",
    "\n",
    "def test(did_pass):\n",
    "    \"\"\" Print the result of a test. \"\"\"\n",
    "    \n",
    "    linenum = sys. _getframe(1) . f_lineno # Get the caller's line number.\n",
    "    \n",
    "    if did_pass:\n",
    "        msg = \"Test at line {0} ok.\". format(linenum)\n",
    "    else:\n",
    "        msg = (\"Test at line {0} FAILED.\". format(linenum))\n",
    "    \n",
    "    print(msg)\n",
    "\n",
    "def test_suite():\n",
    "    \"\"\" Run the suite of tests for code in this module (this file).\n",
    "    \"\"\"\n",
    "    \n",
    "    test(add_vectors([ 1, 1], [ 1, 1]) == [ 2, 2])\n",
    "    test(add_vectors([ 1, 2], [ 1, 4]) == [ 2, 6])\n",
    "    test(add_vectors([ 1, 2, 1], [ 1, 4, 3]) == [ 2, 6, 4])\n",
    "\n",
    "def add_vectors(u, v):\n",
    "    return [x+y for (x, y) in zip(u, v)]\n",
    "\n",
    "test_suite()"
   ]
  }
 ],
 "metadata": {
  "kernelspec": {
   "display_name": "Python 3",
   "language": "python",
   "name": "python3"
  },
  "language_info": {
   "codemirror_mode": {
    "name": "ipython",
    "version": 3
   },
   "file_extension": ".py",
   "mimetype": "text/x-python",
   "name": "python",
   "nbconvert_exporter": "python",
   "pygments_lexer": "ipython3",
   "version": "3.6.4"
  }
 },
 "nbformat": 4,
 "nbformat_minor": 2
}
