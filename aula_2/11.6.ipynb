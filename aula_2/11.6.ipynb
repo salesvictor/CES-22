{
 "cells": [
  {
   "cell_type": "code",
   "execution_count": 1,
   "metadata": {},
   "outputs": [
    {
     "name": "stdout",
     "output_type": "stream",
     "text": [
      "Test at line 19 ok.\n",
      "Test at line 20 ok.\n",
      "Test at line 21 ok.\n"
     ]
    }
   ],
   "source": [
    "import sys\n",
    "\n",
    "def test(did_pass):\n",
    "    \"\"\" Print the result of a test. \"\"\"\n",
    "    \n",
    "    linenum = sys. _getframe(1) . f_lineno # Get the caller's line number.\n",
    "    \n",
    "    if did_pass:\n",
    "        msg = \"Test at line {0} ok.\". format(linenum)\n",
    "    else:\n",
    "        msg = (\"Test at line {0} FAILED.\". format(linenum))\n",
    "    \n",
    "    print(msg)\n",
    "\n",
    "def test_suite():\n",
    "    \"\"\" Run the suite of tests for code in this module (this file).\n",
    "    \"\"\"\n",
    "    \n",
    "    test(scalar_mult(5, [ 1, 2]) == [ 5, 10])\n",
    "    test(scalar_mult(3, [ 1, 0, - 1]) == [ 3, 0, - 3])\n",
    "    test(scalar_mult(7, [ 3, 0, 5, 11, 2]) == [ 21, 0, 35, 77, 14])\n",
    "\n",
    "def scalar_mult(c, l):\n",
    "    return [c*x for x in l]\n",
    "\n",
    "test_suite()"
   ]
  }
 ],
 "metadata": {
  "kernelspec": {
   "display_name": "Python 3",
   "language": "python",
   "name": "python3"
  },
  "language_info": {
   "codemirror_mode": {
    "name": "ipython",
    "version": 3
   },
   "file_extension": ".py",
   "mimetype": "text/x-python",
   "name": "python",
   "nbconvert_exporter": "python",
   "pygments_lexer": "ipython3",
   "version": "3.6.4"
  }
 },
 "nbformat": 4,
 "nbformat_minor": 2
}
