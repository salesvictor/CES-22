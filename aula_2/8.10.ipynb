{
 "cells": [
  {
   "cell_type": "code",
   "execution_count": 16,
   "metadata": {},
   "outputs": [
    {
     "name": "stdout",
     "output_type": "stream",
     "text": [
      "Test at line 19 ok.\n",
      "Test at line 20 ok.\n",
      "Test at line 21 ok.\n",
      "Test at line 22 ok.\n",
      "Test at line 23 ok.\n",
      "Test at line 24 ok.\n",
      "Test at line 25 ok.\n"
     ]
    }
   ],
   "source": [
    "import sys\n",
    "\n",
    "def test(did_pass):\n",
    "    \"\"\" Print the result of a test. \"\"\"\n",
    "    \n",
    "    linenum = sys. _getframe(1) . f_lineno # Get the caller's line number.\n",
    "    \n",
    "    if did_pass:\n",
    "        msg = \"Test at line {0} ok.\". format(linenum)\n",
    "    else:\n",
    "        msg = (\"Test at line {0} FAILED.\". format(linenum))\n",
    "    \n",
    "    print(msg)\n",
    "\n",
    "def test_suite():\n",
    "    \"\"\" Run the suite of tests for code in this module (this file).\n",
    "    \"\"\"\n",
    "    \n",
    "    test(is_palindrome(\"abba\"))\n",
    "    test(not is_palindrome(\"abab\"))\n",
    "    test(is_palindrome(\"tenet\"))\n",
    "    test(not is_palindrome(\"banana\"))\n",
    "    test(is_palindrome(\"straw warts\"))\n",
    "    test(is_palindrome(\"a\"))\n",
    "    test(not is_palindrome(\"\"))\n",
    "\n",
    "def reverse(str):\n",
    "    return str[::-1]\n",
    "\n",
    "def is_palindrome(str):\n",
    "    if len(str) == 0:\n",
    "        return False\n",
    "    \n",
    "    elif len(str) % 2 == 0:\n",
    "        mid = len(str)//2 - 1\n",
    "        half_str = str[:(mid+1)]\n",
    "        test_str = half_str + reverse(half_str)\n",
    "    else:\n",
    "        mid = len(str)//2\n",
    "        half_str = str[:(mid)]\n",
    "        test_str = half_str + str[mid] + reverse(half_str)\n",
    "    \n",
    "    return str == test_str\n",
    "\n",
    "test_suite()"
   ]
  }
 ],
 "metadata": {
  "kernelspec": {
   "display_name": "Python 3",
   "language": "python",
   "name": "python3"
  },
  "language_info": {
   "codemirror_mode": {
    "name": "ipython",
    "version": 3
   },
   "file_extension": ".py",
   "mimetype": "text/x-python",
   "name": "python",
   "nbconvert_exporter": "python",
   "pygments_lexer": "ipython3",
   "version": "3.6.4"
  }
 },
 "nbformat": 4,
 "nbformat_minor": 2
}
