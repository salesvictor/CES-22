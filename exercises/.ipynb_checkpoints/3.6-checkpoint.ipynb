{
 "cells": [
  {
   "cell_type": "code",
   "execution_count": 19,
   "metadata": {},
   "outputs": [],
   "source": [
    "import turtle\n",
    "\n",
    "# Setup\n",
    "\n",
    "window = turtle.Screen()\n",
    "window.bgcolor('white')\n",
    "window.title('Exercise 3.6: Drawing Regular Figures')\n",
    "\n",
    "speedy = turtle.Turtle()\n",
    "speedy.hideturtle()\n",
    "colors = ['black', 'blue', 'red', 'green']\n",
    "\n",
    "# Draw figures\n",
    "\n",
    "for idx, n in enumerate([3, 4, 6, 8]):\n",
    "    speedy.color(colors[idx])\n",
    "\n",
    "    for i in range(n):\n",
    "        speedy.forward(80)\n",
    "        speedy.left(360/n)\n",
    "\n",
    "window.mainloop()"
   ]
  }
 ],
 "metadata": {
  "kernelspec": {
   "display_name": "Python 3",
   "language": "python",
   "name": "python3"
  },
  "language_info": {
   "codemirror_mode": {
    "name": "ipython",
    "version": 3
   },
   "file_extension": ".py",
   "mimetype": "text/x-python",
   "name": "python",
   "nbconvert_exporter": "python",
   "pygments_lexer": "ipython3",
   "version": "3.6.4"
  }
 },
 "nbformat": 4,
 "nbformat_minor": 2
}
