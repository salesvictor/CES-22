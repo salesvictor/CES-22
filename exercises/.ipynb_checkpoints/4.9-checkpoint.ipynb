{
 "cells": [
  {
   "cell_type": "code",
   "execution_count": 3,
   "metadata": {},
   "outputs": [],
   "source": [
    "import turtle\n",
    "\n",
    "def make_window(title, color = 'white'):\n",
    "    \"\"\"\n",
    "     Set up the window with the given background color and title.\n",
    "     Returns the new window.\n",
    "    \"\"\"\n",
    "    \n",
    "    w = turtle.Screen()\n",
    "    w.bgcolor(color)\n",
    "    w.title(title)\n",
    "    \n",
    "    return w\n",
    "\n",
    "def make_turtle(color='black', size=1, shape='classic'):\n",
    "    \"\"\"\n",
    "     Set up a turtle with the given color and pensize.\n",
    "     Returns the new turtle.\n",
    "    \"\"\"\n",
    "    \n",
    "    t = turtle.Turtle()\n",
    "    t.color(color)\n",
    "    t.shape(shape)\n",
    "    t.pensize(size)\n",
    "    \n",
    "    return t\n",
    "\n",
    "def draw_pentagram():\n",
    "    \"\"\"\n",
    "     Draws a pentagram\n",
    "    \"\"\"\n",
    "\n",
    "    window = make_window('Exercise 4.9: Draw a pentagram from functions')\n",
    "    speedy = make_turtle()\n",
    "    speedy.hideturtle()\n",
    "\n",
    "    speedy.left(36)\n",
    "    for i in range(5):\n",
    "        speedy.forward(80)\n",
    "        speedy.left(144)\n",
    "\n",
    "    window.mainloop()\n",
    "\n",
    "draw_pentagram()"
   ]
  }
 ],
 "metadata": {
  "kernelspec": {
   "display_name": "Python 3",
   "language": "python",
   "name": "python3"
  },
  "language_info": {
   "codemirror_mode": {
    "name": "ipython",
    "version": 3
   },
   "file_extension": ".py",
   "mimetype": "text/x-python",
   "name": "python",
   "nbconvert_exporter": "python",
   "pygments_lexer": "ipython3",
   "version": "3.6.4"
  }
 },
 "nbformat": 4,
 "nbformat_minor": 2
}
