{
 "cells": [
  {
   "cell_type": "code",
   "execution_count": 2,
   "metadata": {},
   "outputs": [],
   "source": [
    "import turtle\n",
    "\n",
    "# Setup\n",
    "\n",
    "window = turtle.Screen()\n",
    "window.title('Exercise 3.12: Clock Turle')\n",
    "window.bgcolor('lightgreen')\n",
    "\n",
    "speedy = turtle.Turtle()\n",
    "speedy.shape('turtle')\n",
    "speedy.color('blue')\n",
    "speedy.penup()\n",
    "\n",
    "# Draw Clock\n",
    "\n",
    "speedy.stamp()\n",
    "for i in range(12):\n",
    "    speedy.forward(60)\n",
    "    speedy.pendown()\n",
    "    speedy.forward(10)\n",
    "    speedy.penup()\n",
    "    speedy.forward(10)\n",
    "    speedy.stamp()\n",
    "    speedy.backward(80)\n",
    "    speedy.left(30)\n",
    "\n",
    "window.mainloop()"
   ]
  }
 ],
 "metadata": {
  "kernelspec": {
   "display_name": "Python 3",
   "language": "python",
   "name": "python3"
  },
  "language_info": {
   "codemirror_mode": {
    "name": "ipython",
    "version": 3
   },
   "file_extension": ".py",
   "mimetype": "text/x-python",
   "name": "python",
   "nbconvert_exporter": "python",
   "pygments_lexer": "ipython3",
   "version": "3.6.4"
  }
 },
 "nbformat": 4,
 "nbformat_minor": 2
}
