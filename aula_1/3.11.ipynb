{
 "cells": [
  {
   "cell_type": "code",
   "execution_count": 10,
   "metadata": {},
   "outputs": [],
   "source": [
    "import turtle\n",
    "\n",
    "# Setup\n",
    "\n",
    "window = turtle.Screen()\n",
    "window.title('Exercise 3.11: Pentagram')\n",
    "\n",
    "speedy = turtle.Turtle()\n",
    "speedy.hideturtle()\n",
    "speedy.pensize(5)\n",
    "\n",
    "# Draw pentagram\n",
    "\n",
    "speedy.left(36)\n",
    "for i in range(5):\n",
    "    speedy.forward(80)\n",
    "    speedy.left(144)\n",
    "\n",
    "window.mainloop()"
   ]
  }
 ],
 "metadata": {
  "kernelspec": {
   "display_name": "Python 3",
   "language": "python",
   "name": "python3"
  },
  "language_info": {
   "codemirror_mode": {
    "name": "ipython",
    "version": 3
   },
   "file_extension": ".py",
   "mimetype": "text/x-python",
   "name": "python",
   "nbconvert_exporter": "python",
   "pygments_lexer": "ipython3",
   "version": "3.6.4"
  }
 },
 "nbformat": 4,
 "nbformat_minor": 2
}
