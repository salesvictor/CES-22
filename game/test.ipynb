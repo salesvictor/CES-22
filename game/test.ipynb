{
 "cells": [
  {
   "cell_type": "code",
   "execution_count": 6,
   "metadata": {},
   "outputs": [],
   "source": [
    "import pygame"
   ]
  },
  {
   "cell_type": "code",
   "execution_count": 10,
   "metadata": {},
   "outputs": [],
   "source": [
    "class Game:\n",
    "\n",
    "    def __init__(self):\n",
    "        self._running = True\n",
    "        self._display_surf = None\n",
    "        self.size = (self.width, self.height) = (640, 400)\n",
    "\n",
    "    def on_init(self):\n",
    "        pygame.init()\n",
    "        self.display_surf = pygame.display.set_mode(self.size, pygame.HWSURFACE | pygame.DOUBLEBUF)\n",
    "        self._running = True\n",
    "\n",
    "    def on_event(self, event):\n",
    "        if event.type == pygame.QUIT:\n",
    "            self._running = False\n",
    "\n",
    "    def on_loop(self):\n",
    "        pass\n",
    "\n",
    "    def on_render(self):\n",
    "        pass\n",
    "\n",
    "    def on_cleanup(self):\n",
    "        pygame.quit()\n",
    "\n",
    "    def on_execute(self):\n",
    "        if not self.on_init():\n",
    "            self._running = False\n",
    " \n",
    "        while self._running:\n",
    "            for event in pygame.event.get():\n",
    "                self.on_event(event)\n",
    "            self.on_loop()\n",
    "            self.on_render()\n",
    "        \n",
    "        self.on_cleanup()\n",
    "\n",
    "\n",
    "if __name__ == \"__main__\" :\n",
    "    game = Game()\n",
    "    game.on_execute()"
   ]
  },
  {
   "cell_type": "code",
   "execution_count": null,
   "metadata": {},
   "outputs": [],
   "source": []
  }
 ],
 "metadata": {
  "kernelspec": {
   "display_name": "Python 3",
   "language": "python",
   "name": "python3"
  },
  "language_info": {
   "codemirror_mode": {
    "name": "ipython",
    "version": 3
   },
   "file_extension": ".py",
   "mimetype": "text/x-python",
   "name": "python",
   "nbconvert_exporter": "python",
   "pygments_lexer": "ipython3",
   "version": "3.6.4"
  }
 },
 "nbformat": 4,
 "nbformat_minor": 2
}
