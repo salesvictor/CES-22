{
 "cells": [
  {
   "cell_type": "code",
   "execution_count": 13,
   "metadata": {},
   "outputs": [
    {
     "name": "stdout",
     "output_type": "stream",
     "text": [
      "In the given problem, only 4 out of the 6 shapes can be drawn as asked.\n",
      "Choose a number from 1 to 4 to see them.\n",
      "3\n"
     ]
    }
   ],
   "source": [
    "from math import sqrt\n",
    "import turtle\n",
    "\n",
    "\n",
    "n = int(input(('In the given problem, only 4 out of the 6 shapes can be drawn as asked.\\n'\n",
    "               'Choose a number from 1 to 4 to see them.\\n')))\n",
    "\n",
    "while n not in range(1,5):\n",
    "    n = int(input('The number has to be one of [1, 2, 3, 4]:\\n'))\n",
    "\n",
    "window = turtle.Screen()\n",
    "speedy = turtle.Turtle(shape='turtle')\n",
    "\n",
    "shape = [\n",
    "    [(0, 40), (120, 40), (120, 40), (30, 40), (90, 40), (90, 40)],\n",
    "    [(90, 40), (30, 40), (120, 40), (30, 40), (90, 40), (135, 40 * sqrt(2)), (225, 40)],\n",
    "    [(0, 40), (90, 40), (90, 40), (90, 40), (240, 40), (240, 40), (30, 40), (240, 40), (30, 40), (240, 40)],\n",
    "    [(0, 40), (-30, 40), (-120, 40), (-120, 40), (135, 40 * sqrt(2)), (135, 40), (135, 40 * sqrt(2)), (135, 40),\n",
    "     (-120, 40), (-120, 40), (30, 40), (-120, 40)]\n",
    "]\n",
    "\n",
    "mvmt = shape[n-1]\n",
    "\n",
    "for (angle, dist) in mvmt:\n",
    "    speedy.left(angle)\n",
    "    speedy.forward(dist)\n",
    "\n",
    "window.mainloop()"
   ]
  }
 ],
 "metadata": {
  "kernelspec": {
   "display_name": "Python 3",
   "language": "python",
   "name": "python3"
  },
  "language_info": {
   "codemirror_mode": {
    "name": "ipython",
    "version": 3
   },
   "file_extension": ".py",
   "mimetype": "text/x-python",
   "name": "python",
   "nbconvert_exporter": "python",
   "pygments_lexer": "ipython3",
   "version": "3.6.4"
  }
 },
 "nbformat": 4,
 "nbformat_minor": 2
}
